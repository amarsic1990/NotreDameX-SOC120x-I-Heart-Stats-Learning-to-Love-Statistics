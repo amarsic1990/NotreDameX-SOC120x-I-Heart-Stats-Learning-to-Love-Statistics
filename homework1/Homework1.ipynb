{
 "cells": [
  {
   "cell_type": "markdown",
   "metadata": {},
   "source": [
    "- What is your gender? \n",
    "- nominal\n",
    "- What is your marital status? (married, separated or divorced, widowed, single, other)\n",
    "- nominal\n",
    "- How many children do you currently have?\n",
    "- ratio \n",
    "- How many children do you want to have some day? (none, 1 or 2, 3 or 4, 5 or more)\n",
    "- ordinal\n",
    "- What is your ethnicity?\n",
    "- nominal\n",
    "- What was your family income last month?\n",
    "- ratio \n",
    "- How pleased are you with the opportunities for outdoor recreation in your city or town? (very pleased, somewhat pleased, not very pleased, not at all pleased)\n",
    "- ordinal\n",
    "- When you were younger, was your family (a) very well off compared to others (b) about average (c) not so well off?\n",
    "- ordinal\n",
    "- How long is your hair? (no hair, very short, short, medium, long, very long)\n",
    "- ordinal\n",
    "- What is your IQ score?\n",
    "- Interval\n"
   ]
  }
 ],
 "metadata": {
  "kernelspec": {
   "display_name": "Python 2",
   "language": "python",
   "name": "python2"
  },
  "language_info": {
   "codemirror_mode": {
    "name": "ipython",
    "version": 2
   },
   "file_extension": ".py",
   "mimetype": "text/x-python",
   "name": "python",
   "nbconvert_exporter": "python",
   "pygments_lexer": "ipython2",
   "version": "2.7.10"
  }
 },
 "nbformat": 4,
 "nbformat_minor": 0
}
