{
 "cells": [
  {
   "cell_type": "markdown",
   "metadata": {},
   "source": [
    "-\tCalculate the overall mean. Round your answer to one decimal place.\n",
    "-\t19.1\n",
    "-\tCalculate the SS between. Round your answer to one decimal place. (Note: as you work through the formula for calculating SS between, use the rounded overall mean value (to one decimal place) calculated in Problem 1 above, and round your answers for all intermediate calculations within the SS between formula to one decimal place as well):\n",
    "-\t86\n",
    "-\tCalculate the SS within. Round your answer to one decimal place. (Note: when calculating SS within, use the rounded overall mean value (to one decimal place) calculated in Problem 1 above, and round your answers for all intermediate calculations within the SS total and SS within formulas to one decimal place as well):\n",
    "-\t208\n",
    "-\tCalculate F. Round your answer to one decimal place. (Note: when calculating F, use the rounded SSb and SSw values (to one decimal place) calculated in Problem 2 above, and round your answers for all intermediate calculations within the F formula (such as the values for MSb and MSw) to one decimal place as well):\n",
    "-\t5.6\n",
    "-\tWhat is the critical value?\n",
    "-\t3.35\n",
    "-\tIs the difference between groups significant?\n",
    "-\tYes "
   ]
  }
 ],
 "metadata": {
  "kernelspec": {
   "display_name": "Python 2",
   "language": "python",
   "name": "python2"
  },
  "language_info": {
   "codemirror_mode": {
    "name": "ipython",
    "version": 2
   },
   "file_extension": ".py",
   "mimetype": "text/x-python",
   "name": "python",
   "nbconvert_exporter": "python",
   "pygments_lexer": "ipython2",
   "version": "2.7.10"
  }
 },
 "nbformat": 4,
 "nbformat_minor": 0
}
