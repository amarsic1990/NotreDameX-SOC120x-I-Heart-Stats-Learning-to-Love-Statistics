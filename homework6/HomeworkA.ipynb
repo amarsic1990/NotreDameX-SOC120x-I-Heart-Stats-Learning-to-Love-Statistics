{
 "cells": [
  {
   "cell_type": "markdown",
   "metadata": {},
   "source": [
    "1.\tCalculate the mean for Mystery. Round your answer to one decimal place:\n",
    "    -\t8.3\n",
    "-\tCalculate the mean for Biography. Round your answer to one decimal place:\n",
    "    -\t7.5\n",
    "-\tCalculate the mean for Novels. Round your answer to one decimal place:\n",
    "    -\t13.2\n",
    "-\tCalculate the mean for Non-Fiction. Round your answer to one decimal place:\n",
    "    -\t16.9\n",
    "-\tCalculate the overall mean. Round your answer to one decimal place:\n",
    "    -\t11.48\n",
    "-\tCalculate the SS between. Round your answer to one decimal place. (Note: as you work through the formula for calculating SS between, use the rounded mean values (to one decimal place) calculated in Problem 1 above, and round your answers for all intermediate calculations within the SS between formula to one decimal place as well):\n",
    "    -\t582.88\n",
    "-\tCalculate the SS within. Round your answer to one decimal place. (Note: when calculating SS within, use the rounded mean values (to one decimal place) calculated in Problem 1 above, and round your answers for all intermediate calculations within the SS total and SS within formulas to one decimal place as well):\n",
    "    -\t1892\n",
    "-\tCalculate F. Round your answer to two decimal places. (Note: when calculating F, use the rounded SSb and SSw values (to one decimal place) calculated in Problem 2 above, and round your answers for all intermediate calculations within the F formula (such as the values for MSb and MSw) to one decimal place as well):\n",
    "    -\t3.69\n",
    "-\tWhat is the critical value?\n",
    "    -\t2.84\n",
    "-\tIs the difference between book genres significant or not?\n",
    "    -\tYes"
   ]
  }
 ],
 "metadata": {
  "kernelspec": {
   "display_name": "Python 2",
   "language": "python",
   "name": "python2"
  },
  "language_info": {
   "codemirror_mode": {
    "name": "ipython",
    "version": 2
   },
   "file_extension": ".py",
   "mimetype": "text/x-python",
   "name": "python",
   "nbconvert_exporter": "python",
   "pygments_lexer": "ipython2",
   "version": "2.7.11"
  }
 },
 "nbformat": 4,
 "nbformat_minor": 0
}
