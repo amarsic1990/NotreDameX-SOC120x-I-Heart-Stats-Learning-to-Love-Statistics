{
 "cells": [
  {
   "cell_type": "markdown",
   "metadata": {},
   "source": [
    "1. Is the research hypothesis one-tailed or two-tailed?\n",
    "    - One-tailed\n",
    "- What is the mean for Playing Time? Round your answer to one decimal place.\n",
    "    - 3.69\n",
    "- What is mean for Reading Time? Round your answer to one decimal place.\n",
    "    - 18.81\n",
    "- What is the value of the sum of the product of the mean deviations of X and Y? Round your answer to two decimal places. Note: when creating your calculation table, use the rounded values for the means of X and Y calculated above (to one decimal place). Mean deviation values for the Xs and Ys should also be rounded to one decimal place. However, round the values for the product of each mean deviation to two decimal places.\n",
    "    - -114.94\n",
    "- What is the sum of the squared mean deviations of X? Round your answer to two decimal places. Note: in your calculation table, round each squared mean deviation value to two decimal places as well.\n",
    "    - 79.44\n",
    "- What is the sum of the squared mean deviations of Y? Round your answer to two decimal places. Note: in your calculation table, round each squared mean deviation value to two decimal places as well.\n",
    "    - 382.44\n",
    "- What is the value of r? Round your answer to two decimal places. Note: when working through the r formula, use the rounded values for each part of the formula calculated above (each to two decimal places), and round all intermediate calculations to two decimal places as well.\n",
    "    - -0.65943\n",
    "- The result of the correlation calculation indicates that as time spent playing video games increases, time spent on an academic task ___________.\n",
    "    - decreases\n",
    "- What is the calculated t value? Round your answer to two decimal places. Note: when working through the t formula, use the rounded value for r that you calculated above (to two decimal places), and round all intermediate calculations to two decimal places as well.\n",
    "    - -3.28\n",
    "- What is the critical t value? Give the answer with three decimal places.\n",
    "    - 1.761\n",
    "- Is the relationship between time spent playing video games and attention span significant?\n",
    "    - Yes"
   ]
  }
 ],
 "metadata": {
  "kernelspec": {
   "display_name": "Python 2",
   "language": "python",
   "name": "python2"
  },
  "language_info": {
   "codemirror_mode": {
    "name": "ipython",
    "version": 2
   },
   "file_extension": ".py",
   "mimetype": "text/x-python",
   "name": "python",
   "nbconvert_exporter": "python",
   "pygments_lexer": "ipython2",
   "version": "2.7.11"
  }
 },
 "nbformat": 4,
 "nbformat_minor": 0
}
