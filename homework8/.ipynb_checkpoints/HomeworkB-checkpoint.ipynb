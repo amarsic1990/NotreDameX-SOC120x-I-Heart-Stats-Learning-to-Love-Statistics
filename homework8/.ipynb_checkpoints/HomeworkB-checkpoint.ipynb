{
 "cells": [
  {
   "cell_type": "markdown",
   "metadata": {},
   "source": [
    "1. Is the research hypothesis one-tailed or two-tailed?\n",
    "    - One-tailed\n",
    "- Calculate the mean of laughing time. Round your answer to one decimal place. Should your unrounded answer require you to round either up or down from a .X5 value, make the decision to round to an even number.\n",
    "    - 59.15\n",
    "- Calculate the mean of stress level. Round your answer to one decimal place. Should your unrounded answer require you to round either up or down from a .X5 value, make the decision to round to an even number.\n",
    "    - 15.85\n",
    "- What is the value of the sum of the product of the mean deviations of X and Y? Round your answer to one decimal place. Note: when creating your calculation table, use the rounded values for the means of X and Y calculated above (to one decimal place). Mean deviation values for the Xs and Ys should also be rounded to one decimal place. However, round the values for the product of each mean deviation to two decimal places.\n",
    "    - -2328.55\n",
    "- What is the sum of the squared mean deviations of X? Round your answer to one decimal place. Note: in your calculation table, round each squared mean deviation value to two decimal places.\n",
    "    - 16626.55\n",
    "- What is the sum of the squared mean deviations of Y? Round your answer to one decimal place. Note: in your calculation table, round each squared mean deviation value to two decimal places.\n",
    "    - 896.55\n",
    "- What is the value of r? Round your answer to two decimal places. Note: when working through the r formula, use the rounded values for each part of the formula calculated above (each to one decimal place), and round all intermediate calculations to one decimal place as well.\n",
    "    - -0.60311\n",
    "- The result of the correlation calculation indicates that stress level _______ as time spent laughing increases.\n",
    "    - Decreases\n",
    "- What is the calculated t value? Round your answer to two decimal places. Note: when working through the t formula, use the rounded value for r that you calculated above (to two decimal places), and round all intermediate calculations to two decimal places as well.\n",
    "    - -3.20787\n",
    "- What is the critical t value? Give your answer with three decimal places.\n",
    "    - 1.734\n",
    "- Is the relationship between time spent laughing and stress level significant?\n",
    "    - Yes"
   ]
  }
 ],
 "metadata": {
  "kernelspec": {
   "display_name": "Python 2",
   "language": "python",
   "name": "python2"
  },
  "language_info": {
   "codemirror_mode": {
    "name": "ipython",
    "version": 2
   },
   "file_extension": ".py",
   "mimetype": "text/x-python",
   "name": "python",
   "nbconvert_exporter": "python",
   "pygments_lexer": "ipython2",
   "version": "2.7.11"
  }
 },
 "nbformat": 4,
 "nbformat_minor": 0
}
