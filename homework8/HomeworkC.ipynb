{
 "cells": [
  {
   "cell_type": "markdown",
   "metadata": {},
   "source": [
    "- Is the research hypothesis one-tailed or two-tailed?\n",
    "- Two-tailed\n",
    "- Calculate the mean for commute time. Round your answer to one decimal place.\n",
    "- 51.07\n",
    "- Calculate the mean for productive time. Round your answer to one decimal place.\n",
    "- 14.64\n",
    "- What is the sum of the squared mean deviations of X? Round your answer to two decimal places. Note: in your calculation table, round each squared mean deviation value to two decimal places as well.\n",
    "- 9606.93\n",
    "- What is the sum of the squared mean deviations of Y? Round your answer to two decimal places. Note: in your calculation table, round each squared mean deviation value to two decimal places as well.\n",
    "- 1001.21\n",
    "- What is the value of r? Round your answer to two decimal places. Note: when creating your calculation table to find the values to plug into the r formula, round all calculations to two decimal places, and round all intermediate calculations within the r formula itself to two decimal places as well.\n",
    "- 0.214858\n",
    "- The result of the correlation calculation indicates that early morning productivity time _________ with morning commute time.\n",
    "- Increases\n",
    "- What is the calculated t value? Round your answer to two decimal places. Note: when working through the t formula, use the rounded value for r that you calculated above (to two decimal places), and round all intermediate calculations to two decimal places as well.\n",
    "- 0.762\n",
    "- What is the critical t value? Give you answer with three decimal places.\n",
    "- 2.179\n",
    "- Is the relationship between commute time and morning productivity significant?\n",
    "- No"
   ]
  }
 ],
 "metadata": {
  "kernelspec": {
   "display_name": "Python 2",
   "language": "python",
   "name": "python2"
  },
  "language_info": {
   "codemirror_mode": {
    "name": "ipython",
    "version": 2
   },
   "file_extension": ".py",
   "mimetype": "text/x-python",
   "name": "python",
   "nbconvert_exporter": "python",
   "pygments_lexer": "ipython2",
   "version": "2.7.10"
  }
 },
 "nbformat": 4,
 "nbformat_minor": 0
}
