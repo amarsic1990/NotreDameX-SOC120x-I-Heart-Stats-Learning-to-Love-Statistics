{
 "cells": [
  {
   "cell_type": "markdown",
   "metadata": {},
   "source": [
    "23a. Do these results confirm the research hypothesis?\n",
    "    - No\n",
    "23b. Does student performance on spelling tests vary significantly by study method?\n",
    "    - No\n",
    "24a. Do these results confirm the research hypothesis?\n",
    "    - Yes\n",
    "24b. Does having a preference for toilet paper placement vary significantly by age?\n",
    "    - Yes\n",
    "25a. Do these results confirm the principal’s research hypothesis?\n",
    "    - No\n",
    "25b. Is there a significant difference in grades between textbook and tablet use?\n",
    "    - Yes\n",
    "26a. Is the following an appropriate research hypothesis? Attendance at movie theaters varies significantly by relationship status.\n",
    "    - Yes\n",
    "26b. Given the data below, calculate the value of the appropriate test statistic to test the research hypothesis (chi square, t, F, β, or r). Enter the numerical value here. Round to three decimal places. Note: when working through the appropriate formula(s) to calculate the test statistic, round all intermediate calculations to three decimal places as well.\n",
    "    - 0.176\n",
    "26c. What is the appropriate critical value for this problem? (enter the answer as a positive rather than a negative number) Enter the positive value here:\n",
    "    - 3.15\n",
    "26d. Based on these results, does relationship status make a significant difference in how often people attend movies?\n",
    "    - No\n",
    "27a. Which of the following is a research hypothesis that she could write for this project?\n",
    "    - The length of time children need to fall asleep decreases significantly as time spent outside increases.\n",
    "27b. Calculate the value of the appropriate test statistic to test the research hypothesis (chi square, t, F, β, or r). Enter the numerical value here. Round to three decimal places. Note: when working through the appropriate formula(s) to calculate the test statistic, round all intermediate calculations to three decimal places as well\n",
    "    - -0.150\n",
    "27c. Calculate the value of the appropriate test statistic to test the significance of the value you calculated in the previous problem. Enter the numerical value here. Round to three decimal places. Note: when working through the appropriate formula(s) to calculate the test statistic, round all intermediate calculations to three decimal places as well.\n",
    "    - -2.996\n",
    "27d. What is the appropriate critical value for this problem? (enter the answer as a positive rather than a negative number) Enter the positive value here:\n",
    "    - 1.771\n",
    "27e. Does outside play time significantly decrease time needed to fall asleep?\n",
    "    - Yes\n",
    "28a. The null hypothesis for this project suggests that the variation in musical taste by education observed in the data is due to random chance.\n",
    "    - True\n",
    "28b. Calculate the value of the appropriate test statistic to test the research hypothesis (chi square, t, F, β, or r). Enter the numerical value here. Round to three decimal places. Note: when working through the appropriate formula(s) to calculate the test statistic, round all intermediate calculations to three decimal places as well.\n",
    "    - 5.394\n",
    "28c. What is the appropriate critical value for this problem? (enter the answer as a positive rather than a negative number) Enter the positive numerical value here:\n",
    "    - 5.991\n",
    "28d. Does musical taste vary significantly by education level?\n",
    "    - No\n",
    "29a. Calculate the value of the appropriate test statistic to test for the strength between the variables (chi square, t, F, β, or r). Enter the numerical value here. Round to three decimal places. Note: when working through the appropriate formula(s) to calculate the test statistic, round all intermediate calculations to three decimal places as well.\n",
    "    - -0.639\n",
    "29b. Calculate the value of the appropriate test statistic to test the significance of the value you calculated in the previous problem. Enter the numerical value here. Round to three decimal places. Note: when working through the appropriate formula(s) to calculate the test statistic, round all intermediate calculations to three decimal places as well.\n",
    "    - -2.996\n",
    "29c. What is the appropriate critical value for this problem? (enter the answer as a positive rather than a negative number) Enter the positive numerical value here:\n",
    "    - 1.771\n",
    "29d. What can the researcher conclude about the strength of the relationship between the two variables?\n",
    "    - There is a moderate relationship between the variables. \n",
    "30a. Which of the following is NOT an appropriate research hypothesis for this question:\n",
    "    - Being rewarded for reading at home will encourage students to read more books than they would have without a reward program.\n",
    "30b. Given the data above, calculate the value of the appropriate test statistic to test the research hypothesis (chi square, t, F, β, or r). Enter the numerical value here. Round to three decimal places. (Note: when working through the appropriate formula(s) to calculate the test statistic, round all intermediate calculations to three decimal places as well)\n",
    "    - 0.151\n",
    "30c. What is the appropriate critical value for this problem? (Assume we are working with a one-tailed research hypothesis. Enter the answer as a positive rather than a negative number.) Enter the numerical value here:\n",
    "    - 1.746\n",
    "30d. Was there a significant difference between the groups in the average number of books that students read at home?\n",
    "    - No"
   ]
  }
 ],
 "metadata": {
  "kernelspec": {
   "display_name": "Python 2",
   "language": "python",
   "name": "python2"
  },
  "language_info": {
   "codemirror_mode": {
    "name": "ipython",
    "version": 2
   },
   "file_extension": ".py",
   "mimetype": "text/x-python",
   "name": "python",
   "nbconvert_exporter": "python",
   "pygments_lexer": "ipython2",
   "version": "2.7.11"
  }
 },
 "nbformat": 4,
 "nbformat_minor": 0
}
