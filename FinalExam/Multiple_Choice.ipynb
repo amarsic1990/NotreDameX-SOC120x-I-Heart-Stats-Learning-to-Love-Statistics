{
 "cells": [
  {
   "cell_type": "markdown",
   "metadata": {},
   "source": [
    "1. A research hypothesis states, in part, that “income increases as education increases.” In this statement, income is the dependent variable.\n",
    "    - True\n",
    "2. The scores on a variable are 21, 25, 28, 32, 40, and 40. The median is\n",
    "    - 30 \n",
    "3. If the standard deviation of a group of scores is 0, which statement is true?\n",
    "    There is no variation in the scores. There is no variation in the scores\n",
    "4. Dozens of people have applied to join an advanced training program, and only one can be accepted. Part of the application process included a battery of 12 skills tests. The top four candidates have exactly the same average score on these 12 tests. The standard deviations of their test scores are: Candidate A=6.45, Candidate B=13.45, Candidate C=0.27, Candidate D=3.12. If consistency of performance is the most important criteria for acceptance, which of these four candidates should be selected for the program?\n",
    "    - C\n",
    "5. When we calculate Chi square, the cell frequencies computed under the assumption that the null hypothesis is true are called\n",
    "    - Expected frequencies\n",
    "6. Which of the following variables is measured at the ordinal level?\n",
    "    - Customer satisfaction scale (very satisfied, somewhat satisfied, not very satisfied, not at all satisfied) \n",
    "7. A researcher is analyzing regional differences in family size. She has information on the number of children for 100 families from each of four regions. Which of the following would be an appropriate statistical test to test for group differences in family size by region?\n",
    "    - ANOVA\n",
    "8. In your workplace, two departments share a break room. Your boss has noticed that workers are spending much more time in the break room than she would like. She asks you to observe how long each person in these two departments spends in the break room each day for a week, and then determine if there is a significant difference in the amount of time spent in the break room by department. Which statistical test will you use to determine if there is a significant difference between groups?\n",
    "    - t-test\n",
    "9. In the situation above, you have reason to suspect that there is much more variation in time spent in the break room within departments than between (that each department has some people who spend very little time, and some who spend a great deal). Given this, you guess that\n",
    "    - the difference between groups will not be statistically significant.\n",
    "10. A researcher gathers the following information about local support for a political issue: What value should go in the cell labeled A in the observed values table below?\n",
    "    - 3\n",
    "11. As part of a computation of ANOVA, a researcher creates the following calculation table:  Given this information, what is the value of SST?\n",
    "    - 6.799\n",
    "12. A researcher wants to discover if there is a significant relationship between the number of siblings a person has and the number of close friends he or she has. The researcher suspects that the number of close friends is negatively related to the number of siblings. Which statistical test should the researcher use to determine if there is a significant relationship between these two variables?\n",
    "    - regression\n",
    "13. As the value of the standard deviation of data in a normal distribution increases, the percentage of the area between one standard deviation below the mean and one standard deviation above the mean will\n",
    "    - stay the same\n",
    "14. Researchers gather data from samples instead of populations because\n",
    "    - populations are often too large to gather data from populations are often too large to gather data from - correct\n",
    "15. The head of the finance department at a car dealership collects data about customers’ annual household income and the amount of money they spend on a new car. He calculates the following regression formula in order to predict how much money customers will spend on cars given their income: y^=9,500+.35x  Given this equation, predict how much a person with an annual household income of 85,000 will spend on a car.\n",
    "    - 39,250\n",
    "16. In this class, we evaluate all tests of statistical significance at the significance level of .05. What does this value of .05 represent?\n",
    "    - The chance that conclusions drawn from statistical tests are incorrect is 5% or lower. The chance that conclusions drawn from statistical tests are incorrect is 5% or lower. - correct\n",
    "17. You are asked to calculate the correlation value to represent the relationship between two variables. You are given this calculation table to work with: What is the value of r?\n",
    "    - 0.552\n",
    "18. Measures of dispersion provide information about the\n",
    "    - variety within the distribution of scores. variety within the distribution of scores. - correct\n",
    "19. You made the following calculation table in order to construct the equation of the regression line that describes the relationship between two variables:  What is the value of β?\n",
    "    - -1.856\n",
    "20. When data from a test of the relationship between two interval or ratio variables are plotted on a graph, a line of best fit can be added to the graph to give a graphic and numeric representation of the relationship between the variables. The relationship is\n",
    "    - positive when the line slopes upward from left to right. positive when the line slopes upward from left to right.\n",
    "21. You are working with a dataset that has 1000 normally-distributed cases. The mean on the variable you’re interested in is 100, and the standard deviation is 10. How many of the cases fall between 90 and 110?\n",
    "    - 680\n",
    "22. As the chance of making a Type I error increases, the chance of making a Type II error also increases.\n",
    "    - false\n"
   ]
  }
 ],
 "metadata": {
  "kernelspec": {
   "display_name": "Python 2",
   "language": "python",
   "name": "python2"
  },
  "language_info": {
   "codemirror_mode": {
    "name": "ipython",
    "version": 2
   },
   "file_extension": ".py",
   "mimetype": "text/x-python",
   "name": "python",
   "nbconvert_exporter": "python",
   "pygments_lexer": "ipython2",
   "version": "2.7.11"
  }
 },
 "nbformat": 4,
 "nbformat_minor": 0
}
