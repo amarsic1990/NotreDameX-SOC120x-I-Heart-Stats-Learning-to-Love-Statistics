{
 "cells": [
  {
   "cell_type": "markdown",
   "metadata": {},
   "source": [
    "1.\tIs the research hypothesis one-tailed or two-tailed?\n",
    "    -\tOne-tailed One-tailed\n",
    "-\tCalculate the t value. Round your answer to two decimal places. (Note: when calculating the value of sigma, round all intermediate calculations and the final value for sigma to two decimal places as well)\n",
    "    -\t1.70\n",
    "-\tWhat is the df for this problem?\n",
    "    -\t50\n",
    "-\tWhat is the critical value? Write the answer with three decimal places.\n",
    "    -\t1.6775\n",
    "-\tDid the downtown salon have significantly more new clients in the last six months than the suburb salon?\n",
    "    -\tYes"
   ]
  }
 ],
 "metadata": {
  "kernelspec": {
   "display_name": "Python 2",
   "language": "python",
   "name": "python2"
  },
  "language_info": {
   "codemirror_mode": {
    "name": "ipython",
    "version": 2
   },
   "file_extension": ".py",
   "mimetype": "text/x-python",
   "name": "python",
   "nbconvert_exporter": "python",
   "pygments_lexer": "ipython2",
   "version": "2.7.11"
  }
 },
 "nbformat": 4,
 "nbformat_minor": 0
}
