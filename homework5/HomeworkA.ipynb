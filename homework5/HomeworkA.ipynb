{
 "cells": [
  {
   "cell_type": "markdown",
   "metadata": {},
   "source": [
    "1.\tIs the research hypothesis one-tailed or two-tailed?\n",
    "    -\tTwo-tailed Two-tailed\n",
    "-\tCalculate the mean for Project A. Round your answer to one decimal place.\n",
    "    -\t19.7\n",
    "-\tCalculate the mean for Project B. Round your answer to one decimal place.\n",
    "    -\t24.9\n",
    "-\tEnter the standard deviation for group A. Round your answer to two decimal places.\n",
    "    -\t3.12\n",
    "-\tEnter the standard deviation for group B. Round your answer to two decimal places.\n",
    "    -\t7.03\n",
    "-\tCalculate t. Round your answer to two decimal places. (Note: when calculating the value for sigma, use the rounded values for the standard deviation that you calculated in the \"Standard Deviation\" problem above. Also, when working through the sigma formula and the t formula, round all intermediate calculations to two decimal places)\n",
    "    -\t-2.03\n",
    "-\tWhat is the df?\n",
    "    -\t18\n",
    "-\tWhat is the critical value? Give the answer with three decimal places.\n",
    "    -\t2.101\n",
    "-\tIs the difference between groups significant?\n",
    "    -\tNo "
   ]
  }
 ],
 "metadata": {
  "kernelspec": {
   "display_name": "Python 2",
   "language": "python",
   "name": "python2"
  },
  "language_info": {
   "codemirror_mode": {
    "name": "ipython",
    "version": 2
   },
   "file_extension": ".py",
   "mimetype": "text/x-python",
   "name": "python",
   "nbconvert_exporter": "python",
   "pygments_lexer": "ipython2",
   "version": "2.7.11"
  }
 },
 "nbformat": 4,
 "nbformat_minor": 0
}
