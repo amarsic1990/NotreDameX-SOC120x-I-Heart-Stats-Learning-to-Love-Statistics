{
 "cells": [
  {
   "cell_type": "markdown",
   "metadata": {},
   "source": [
    "- What is the Independent Variable in this problem?\n",
    "- Race\n",
    "- The expected total value for cell A (round your answer to one decimal place):\n",
    "- 36.76\n",
    "- The expected total value for cell B (round your answer to one decimal place):\n",
    "- 51\n",
    "- The expected total value for cell C (round your answer to one decimal place):\n",
    "- 5.88\n",
    "- The expected total value for cell D (round your answer to one decimal place):\n",
    "- 255\n",
    "- The expected total value for cell E (round your answer to one decimal place):\n",
    "- 100\n",
    "- What is the df for this problem?\n",
    "- 4\n",
    "- What is the calculated Chi square value? Round your answer to one decimal place. (Note: when completing your Chi square calculation table, round all intermediate calculations to one decimal place as well)\n",
    "- 20.2\n",
    "- Use the Chi square table to find the critical Chi square value for this problem. Give your answer with three decimal places.\n",
    "- 9.488\n",
    "- Based on your findings can you reject the null hypothesis?\n",
    "- Yes\n",
    "- What is the Independent Variable?\n",
    "- gender\n",
    "- What is the expected value for cell A? (round your answer to two decimal places)\n",
    "- 154\n",
    "- What is the expected value for cell B? (round your answer to two decimal places)\n",
    "- 49.5\n",
    "- What is the expected value for cell C? (round your answer to two decimal places)\n",
    "- 33.75\n",
    "- What is the expected value for cell D? (round your answer to two decimal places)\n",
    "- 24.75\n",
    "- What is the degrees of freedom value?\n",
    "- 3\n",
    "- What is the Chi square value that you calculated? Round your answer to two decimal places. (Note: when completing your Chi square calculation table, round all intermediate calculations to two decimal places as well)\n",
    "- 7.86\n",
    "- What is the critical Chi square value? Give the answer to three decimal places.\n",
    "- 7.815\n",
    "- Based on your findings can you reject the null hypothesis?\n",
    "- Yes"
   ]
  }
 ],
 "metadata": {
  "kernelspec": {
   "display_name": "Python 2",
   "language": "python",
   "name": "python2"
  },
  "language_info": {
   "codemirror_mode": {
    "name": "ipython",
    "version": 2
   },
   "file_extension": ".py",
   "mimetype": "text/x-python",
   "name": "python",
   "nbconvert_exporter": "python",
   "pygments_lexer": "ipython2",
   "version": "2.7.10"
  }
 },
 "nbformat": 4,
 "nbformat_minor": 0
}
