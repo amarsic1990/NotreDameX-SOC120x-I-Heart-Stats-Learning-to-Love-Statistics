{
 "cells": [
  {
   "cell_type": "markdown",
   "metadata": {},
   "source": [
    "1. What is the observed value for cell A?\n",
    "    - 0\n",
    "- What is the observed value for cell B?\n",
    "    - 2\n",
    "- What is the observed value for cell C?\n",
    "    - 1\n",
    "- What is the observed value for cell D?\n",
    "    - 3\n",
    "- What is the observed value for cell E?\n",
    "    - 7\n",
    "- What is the observed value for cell F?\n",
    "    - 3\n",
    "- What is the observed value for cell G?\n",
    "    - 2\n",
    "- What is the observed value for cell H?\n",
    "    - 4\n",
    "- What is the observed value for cell I?\n",
    "    - 10\n",
    "- What is the observed value for cell J?\n",
    "    - 8\n",
    "- What is the observed value for cell K?\n",
    "    - 8\n",
    "- What is the observed value for cell L?\n",
    "    - 16\n",
    "- What is the expected value for cell A?\n",
    "    - 1\n",
    "- What is the expected value for cell B?\n",
    "    - 1\n",
    "- What is the expected value for cell C?\n",
    "    - 2\n",
    "- What is the expected value for cell D?\n",
    "    - 2\n",
    "- What is the expected value for cell E?\n",
    "    - 5\n",
    "- What is the expected value for cell F?\n",
    "    - 5\n",
    "- What is the df for this problem?\n",
    "    - 2\n",
    "- Calculate the Chi square value for the problem set. Round your answer to two decimal places. (Note: when completing your Chi square calculation table, round all intermediate calculations to two decimal places as well)\n",
    "    - 4.6\n",
    "- Use the Chi square table to find the critical Chi square value for this problem. Provide your answer with three decimal places.\n",
    "    - 5.991\n",
    "- Based on your findings can you reject the null hypothesis?\n",
    "    - No"
   ]
  }
 ],
 "metadata": {
  "kernelspec": {
   "display_name": "Python 2",
   "language": "python",
   "name": "python2"
  },
  "language_info": {
   "codemirror_mode": {
    "name": "ipython",
    "version": 2
   },
   "file_extension": ".py",
   "mimetype": "text/x-python",
   "name": "python",
   "nbconvert_exporter": "python",
   "pygments_lexer": "ipython2",
   "version": "2.7.11"
  }
 },
 "nbformat": 4,
 "nbformat_minor": 0
}
