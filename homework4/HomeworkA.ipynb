{
 "cells": [
  {
   "cell_type": "markdown",
   "metadata": {},
   "source": [
    "- What is the observed value for cell A?\n",
    "- 10\n",
    "- What is the observed value for cell B?\n",
    "- 4\n",
    "- What is the observed value for cell C?\n",
    "- 2\n",
    "- What is the observed value for cell D?\n",
    "- 4\n",
    "- What is the observed value for cell E?\n",
    "- 14\n",
    "- What is the observed value for cell F?\n",
    "- 6\n",
    "- What is the observed value for cell G?\n",
    "- 12\n",
    "- What is the observed value for cell H?\n",
    "- 8\n",
    "- What is the observed value for cell I?\n",
    "- 20\n",
    "- The expected total value for cell A (round your answer to one decimal place):\n",
    "- 8.4\n",
    "- The expected total value for cell B (round your answer to one decimal place):\n",
    "- 5.6\n",
    "- The expected total value for cell C (round your answer to one decimal place):\n",
    "- 3.6\n",
    "- The expected total value for cell D (round your answer to one decimal place):\n",
    "- 2.4\n",
    "- What is the df for this problem?\n",
    "- 1\n",
    "- Calculate the Chi square value. Round your answer to two decimal places. (Note: when completing your Chi square calculation table, round all intermediate calculations to two decimal places as well)\n",
    "- 2.54\n",
    "- Use the Chi square table to find the critical Chi square value for this problem. Provide answer to three decimal places.\n",
    "- 3.841\n",
    "- Based on your findings can you reject the null hypothesis?\n",
    "- No"
   ]
  }
 ],
 "metadata": {
  "kernelspec": {
   "display_name": "Python 2",
   "language": "python",
   "name": "python2"
  },
  "language_info": {
   "codemirror_mode": {
    "name": "ipython",
    "version": 2
   },
   "file_extension": ".py",
   "mimetype": "text/x-python",
   "name": "python",
   "nbconvert_exporter": "python",
   "pygments_lexer": "ipython2",
   "version": "2.7.10"
  }
 },
 "nbformat": 4,
 "nbformat_minor": 0
}
