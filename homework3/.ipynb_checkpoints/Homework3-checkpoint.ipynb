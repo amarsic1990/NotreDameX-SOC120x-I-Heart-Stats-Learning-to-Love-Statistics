{
 "cells": [
  {
   "cell_type": "markdown",
   "metadata": {},
   "source": [
    "1.\tIdentify the dependent variable in the following statement: As time spent exercising increases, so does time spent on productive activity during the day.\n",
    "    -\t how much time a person spends on productive activity at work \n",
    "-\tIdentify the dependent variable in the following statement: Younger people use more toothpaste when brushing their teeth than older people do.\n",
    "    -\tamount of toothpaste used when brushing one’s teeth \n",
    "-\tIdentify the dependent variable in the following statement: Caffeine consumption while studying impacts exam scores.\n",
    "    -\texam scores\n",
    "-\tWhich of the problems above represents a two-tailed hypothesis?\n",
    "    -\tcaffeine \n",
    "-\tWhich of the following is true?\n",
    "    -\tA complication of working with sample data is that a researcher can never be completely sure that the conclusions he or she draws from statistical analyses are accurate. A complication of working with sample data is that a researcher can never be completely sure that the conclusions he or she draws from statistical analyses are accurate.\n",
    "-\tWhich of the following represents a method for obtaining a random sample?\n",
    "    -\tRandomly selecting 100 student ID numbers from the entire student roster of a school Randomly selecting 100 student ID numbers from the entire student roster of a school\n",
    "-\tIn what circumstance would a researcher make a Type II error?\n",
    "    -\tFailing to reject the null hypothesis when the research hypothesis accurately reflects the situation in the population. Failing to reject the null hypothesis when the research hypothesis accurately reflects the situation in the population.\n",
    "-\tWhat is the value that falls 2 standard deviations below the mean?\n",
    "    -\t30\n",
    "-\tWhat percentage of cases falls between 50 and 60? (Please enter the number only)\n",
    "    -\t34\n",
    "-\tIf the scores in the dataset described above are scores on an exam, what score marks the threshold of the top 2.5% of the scores in the class?\n",
    "    -\t70"
   ]
  }
 ],
 "metadata": {
  "kernelspec": {
   "display_name": "Python 2",
   "language": "python",
   "name": "python2"
  },
  "language_info": {
   "codemirror_mode": {
    "name": "ipython",
    "version": 2
   },
   "file_extension": ".py",
   "mimetype": "text/x-python",
   "name": "python",
   "nbconvert_exporter": "python",
   "pygments_lexer": "ipython2",
   "version": "2.7.11"
  }
 },
 "nbformat": 4,
 "nbformat_minor": 0
}
