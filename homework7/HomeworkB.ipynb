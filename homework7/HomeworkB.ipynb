{
 "cells": [
  {
   "cell_type": "markdown",
   "metadata": {},
   "source": [
    "1. Is the research hypothesis in this scenario one-tailed or two-tailed?\n",
    "    - One-tailed\n",
    "- What is the value of ∑x∑y?\n",
    "    - 762776\n",
    "- What is the value of β? Round your answer to three decimal places.\n",
    "    - -0.253864546\n",
    "- According to this value of beta, does depression increase as the length of time listening to upbeat music increases? (1 = yes, 2 = no)\n",
    "    - 2\n",
    "- What is the value of α? Round your answer to three decimal places. Note: when calculating the formula for α, use the β value calculated above (rounded to three decimal places), and round all intermediate calculations to three decimal places as well.\n",
    "    - 71.641\n",
    "- According to this value of alpha, if a patient has a depression scale score of 71.65, about how many minutes of upbeat music do you expect that he is listening to each day? Give your answer as a whole number.\n",
    "    - 0\n",
    "- Using the regression equation, calculate the predicted Y value for X=118. Round your answer to one decimal place. Note: use the rounded α and β values calculated above (each to three decimal places) in your regression equation, and round all intermediate calculations within the regression equation to three decimal places as well.\n",
    "    - 41.68\n",
    "- What is the value of sigma (in the t-test equation)? Round your answer to three decimal places. Note: when creating your calculation table to help find the value of sigma, round all values to three decimal places; when working through the formula for sigma, round all intermediate calculations to three decimal places as well.\n",
    "    - 0.087629326\n",
    "- What is the calculated t value for this problem? Round your answer to three decimal places. Note: use your rounded β and sigma values calculated above (each to three decimal places) when calculating the t formula.\n",
    "    - -2.897027268\n",
    "- What is the critical t value for this problem? Give the answer to three decimal places.\n",
    "    - 1.782\n",
    "- Is the relationship between x and y significant? (1 = yes, 2 = no):\n",
    "    - 1"
   ]
  }
 ],
 "metadata": {
  "kernelspec": {
   "display_name": "Python 2",
   "language": "python",
   "name": "python2"
  },
  "language_info": {
   "codemirror_mode": {
    "name": "ipython",
    "version": 2
   },
   "file_extension": ".py",
   "mimetype": "text/x-python",
   "name": "python",
   "nbconvert_exporter": "python",
   "pygments_lexer": "ipython2",
   "version": "2.7.11"
  }
 },
 "nbformat": 4,
 "nbformat_minor": 0
}
