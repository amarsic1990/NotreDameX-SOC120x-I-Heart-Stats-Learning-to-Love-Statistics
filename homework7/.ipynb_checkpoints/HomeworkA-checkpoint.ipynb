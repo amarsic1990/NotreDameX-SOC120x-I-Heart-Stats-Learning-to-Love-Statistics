{
 "cells": [
  {
   "cell_type": "markdown",
   "metadata": {},
   "source": [
    "- Is the research hypothesis one-tailed or two-tailed?\n",
    "- Two-tailed\n",
    "- What is the value of ∑xy?\n",
    "- 47737\n",
    "- What is the value of β? Round your answer to three decimal places.\n",
    "- 0.283201603\n",
    "- According to the value of β, does voter turnout increase as the percentage of negative advertisements increases? (1 = yes, 2 = no)\n",
    "- 1\n",
    "- What is the value of α? Round your answer to three decimal places. Note: when calculating the formula for α, use the β value calculated above (rounded to three decimal places), and round all intermediate calculations to three decimal places as well.\n",
    "- 40.33248915\n",
    "- According to this value of α, what level of voter turnout should we expect for a campaign in which there are no negative advertisements? (Round your answer to three decimal places and give as a percentage; use the % sign in your answer)\n",
    "- 40.332%\n",
    "- Using the regression equation, calculate the predicted Y value for X=62. Round your answer to three decimal places. Note: use the rounded α and β values calculated above (each to three decimal places) in your regression equation, and round all intermediate calculations within the regression equation to three decimal places as well.\n",
    "- 57.89\n",
    "- What is the value of sigma (in the t-test equation)? Round your answer to three decimal places. Note: when creating your calculation table to help find the value of sigma, round all values to three decimal places; when working through the formula for sigma, round all intermediate calculations to three decimal places as well.\n",
    "- 0.255599\n",
    "- What is the calculated t value for this problem? Round your answer to three decimal places. Note: use your rounded β and sigma values calculated above (each to three decimal places) when calculating the t formula.\n",
    "- 1.106\n",
    "- What is the critical t value for this problem? Give your answer with three decimal places.\n",
    "- 2.101\n",
    "- Is the relationship between x and y statistically significant? (1 = yes, 2 = no)\n",
    "- 2"
   ]
  }
 ],
 "metadata": {
  "kernelspec": {
   "display_name": "Python 2",
   "language": "python",
   "name": "python2"
  },
  "language_info": {
   "codemirror_mode": {
    "name": "ipython",
    "version": 2
   },
   "file_extension": ".py",
   "mimetype": "text/x-python",
   "name": "python",
   "nbconvert_exporter": "python",
   "pygments_lexer": "ipython2",
   "version": "2.7.10"
  }
 },
 "nbformat": 4,
 "nbformat_minor": 0
}
