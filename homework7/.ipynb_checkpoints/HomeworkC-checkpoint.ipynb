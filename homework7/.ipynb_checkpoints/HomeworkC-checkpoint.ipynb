{
 "cells": [
  {
   "cell_type": "markdown",
   "metadata": {},
   "source": [
    "1. Is the research hypothesis one-tailed or two-tailed?\n",
    "    - Two-tailed\n",
    "- What is the value of ∑x2?\n",
    "    - 7432\n",
    "- What is the value of β? Round your answer to three decimal places.\n",
    "    - 0.415801187\n",
    "- Points earned by the home team _______ as the home team crowd increases. (1 = increases, 2 = decreases)\n",
    "    - 1\n",
    "- What is the value of α? Round your answer to three decimal places. Note: when calculating the formula for α, use the β value calculated above (rounded to three decimal places), and round all intermediate calculations to three decimal places as well.\n",
    "    - 42.13130564\n",
    "- How many points would you expect the home team to score if there were no home-team fans in attendance? Give your answer as a whole number.\n",
    "    - 42\n",
    "- Using the regression equation, calculate the predicted Y value for X=35. Give your answer as a whole number. Note: use the rounded α and β values calculated above (each to three decimal places) in your regression equation, and round all intermediate calculations within the regression equation to three decimal places as well.\n",
    "    - 57\n",
    "- What is the value of sigma (in the t-test equation)? Round your answer to three decimal places. Note: when creating your calculation table to help find the value of sigma, round all values to three decimal places; when working through the formula for sigma, round all intermediate calculations to three decimal places as well.\n",
    "    - 0.316865611\n",
    "- What is the calculated t value for this problem? Round your answer to three decimal places. Note: use your rounded β and sigma values calculated above (each to three decimal places) when calculating the t formula.\n",
    "    - 1.312231975\n",
    "- What is the critical t value for this problem?\n",
    "    - 2.228\n",
    "- Is the relationship between x and y significant?(1 = yes, 2 = no)\n",
    "    - 2"
   ]
  }
 ],
 "metadata": {
  "kernelspec": {
   "display_name": "Python 2",
   "language": "python",
   "name": "python2"
  },
  "language_info": {
   "codemirror_mode": {
    "name": "ipython",
    "version": 2
   },
   "file_extension": ".py",
   "mimetype": "text/x-python",
   "name": "python",
   "nbconvert_exporter": "python",
   "pygments_lexer": "ipython2",
   "version": "2.7.11"
  }
 },
 "nbformat": 4,
 "nbformat_minor": 0
}
