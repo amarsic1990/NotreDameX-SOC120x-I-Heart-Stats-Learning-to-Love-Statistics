{
 "cells": [
  {
   "cell_type": "markdown",
   "metadata": {},
   "source": [
    "1.\tEnter the mode value of this group of numbers:\n",
    "    -\t1\n",
    "-\tEnter the median value of this group of numbers:\n",
    "    -\t6\n",
    "-\tEnter the mean value of this group of numbers (round to one decimal place):\n",
    "    -\t7.35\n",
    "-\tWhich measure of central tendency represents the most typical response?\n",
    "    -\tmode\n"
   ]
  }
 ],
 "metadata": {
  "kernelspec": {
   "display_name": "Python 2",
   "language": "python",
   "name": "python2"
  },
  "language_info": {
   "codemirror_mode": {
    "name": "ipython",
    "version": 2
   },
   "file_extension": ".py",
   "mimetype": "text/x-python",
   "name": "python",
   "nbconvert_exporter": "python",
   "pygments_lexer": "ipython2",
   "version": "2.7.11"
  }
 },
 "nbformat": 4,
 "nbformat_minor": 0
}
