{
 "cells": [
  {
   "cell_type": "markdown",
   "metadata": {},
   "source": [
    "-\tThe most appropriate measure of central tendency for gender:\n",
    "-\tMode\n",
    "-\tEnter the value (if entering the value of the mean, round to two decimal places):\n",
    "-\tFemale\n",
    "-\tThe most appropriate measure of central tendency for education:\n",
    "-\tMedian\n",
    "-\tEnter the value (if entering the value of the mean, round to two decimal places):\n",
    "-\thigh school diploma\n",
    "-\tThe most appropriate measure of central tendency for political orientation:\n",
    "-\tMedian\n",
    "-\tEnter the value (if entering the value of the mean, round to two decimal places):\n",
    "-\tModerate\n",
    "-\tThe most appropriate measure of central tendency for political optimism scale:\n",
    "-\tMean\n",
    "-\tEnter the value (if entering the value of the mean, round to two decimal places):\n",
    "-\t26.75\n"
   ]
  }
 ],
 "metadata": {
  "kernelspec": {
   "display_name": "Python 2",
   "language": "python",
   "name": "python2"
  },
  "language_info": {
   "codemirror_mode": {
    "name": "ipython",
    "version": 2
   },
   "file_extension": ".py",
   "mimetype": "text/x-python",
   "name": "python",
   "nbconvert_exporter": "python",
   "pygments_lexer": "ipython2",
   "version": "2.7.10"
  }
 },
 "nbformat": 4,
 "nbformat_minor": 0
}
