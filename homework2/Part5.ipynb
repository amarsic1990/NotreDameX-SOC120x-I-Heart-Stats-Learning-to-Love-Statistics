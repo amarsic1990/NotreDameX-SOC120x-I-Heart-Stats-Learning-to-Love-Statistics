{
 "cells": [
  {
   "cell_type": "markdown",
   "metadata": {},
   "source": [
    "-\tWhich seasons had snowfall amounts in the ideal range?\n",
    "-\t2010-2011 & 2012-2013\n",
    "-\tEnter the mean value for the snowfall totals for these five years (round your answer to one decimal place):\n",
    "-\t7.9\n",
    "-\tEnter the median value for the snowfall totals for these five years:\n",
    "-\t7.8\n",
    "-\tIs there a mode value?:\n",
    "-\tNo\n",
    "-\tEnter the standard deviation value for the snowfall totals for these five years (round your answer to onedecimal place:\n",
    "-\t1.5\n",
    "-\tIf the 2009 - 2010 snowfall total had been 4.8 instead of 6.8, would the median __________?\n",
    "-\tstay the same\n",
    "-\tIf the 2009 - 2010 snowfall total had been 4.8 instead of 6.8, would the mean __________?\n",
    "-\tDecrease\n",
    "-\tIf the 2009 - 2010 snowfall total had been 4.8 instead of 6.8, would the standard deviation __________?\n",
    "-\tIncrease"
   ]
  }
 ],
 "metadata": {
  "kernelspec": {
   "display_name": "Python 2",
   "language": "python",
   "name": "python2"
  },
  "language_info": {
   "codemirror_mode": {
    "name": "ipython",
    "version": 2
   },
   "file_extension": ".py",
   "mimetype": "text/x-python",
   "name": "python",
   "nbconvert_exporter": "python",
   "pygments_lexer": "ipython2",
   "version": "2.7.10"
  }
 },
 "nbformat": 4,
 "nbformat_minor": 0
}
