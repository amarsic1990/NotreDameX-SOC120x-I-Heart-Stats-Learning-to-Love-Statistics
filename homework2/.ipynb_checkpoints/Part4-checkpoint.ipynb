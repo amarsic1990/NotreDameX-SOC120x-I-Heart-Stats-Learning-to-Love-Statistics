{
 "cells": [
  {
   "cell_type": "markdown",
   "metadata": {},
   "source": [
    "1.\tEnter the mean value for Semester 1 (round your answer to one decimal place):\n",
    "    -\t81\n",
    "-\tEnter the median value for Semester 1:\n",
    "    -\t76\n",
    "-\tEnter the mode value for Semester 1:\n",
    "    -\t70\n",
    "-\tEnter the range (enter your answer in the XX-XX format, with values from lowest to highest) for Semester 1:\n",
    "    -\t65-100\n",
    "-\tEnter the mean deviation value for Semester 1 (round your answer to one decimal place):\n",
    "    -\t9.86\n",
    "-\tEnter the standard deviation value for Semester 1 (round your answer to one decimal place):\n",
    "    -\t1.81\n",
    "-\tEnter the mean value for Semester 2 (round your answer to one decimal place):\n",
    "    -\t89.13\n",
    "-\tEnter the median value for Semester 2:\n",
    "    -\t90\n",
    "-\tEnter the mode value for Semester 2:\n",
    "    -\t90\n",
    "-\tEnter the range (enter your answer in the XX-XX format, with values from lowest to highest) for Semester 2:\n",
    "    -\t78-95\n",
    "-\tEnter the mean deviation value for Semester 2 (round your answer to one decimal place):\n",
    "    -\t3.7\n",
    "-\tEnter the standard deviation value for Semester 2 (round your answer to one decimal place):\n",
    "    -\t4.7\n",
    "-\tAccording to the measures of central tendency, which group of students did better on the exam:\n",
    "    -\tSemester 2\n",
    "-\tWhich semester's teaching method would students who feel compelled to make A+s on exams root for:\n",
    "    -\tSemester 1\n",
    "-\tWas the professor successful in increasing consistency from semester 1 to semester 2:\n",
    "    -\tYes"
   ]
  }
 ],
 "metadata": {
  "kernelspec": {
   "display_name": "Python 2",
   "language": "python",
   "name": "python2"
  },
  "language_info": {
   "codemirror_mode": {
    "name": "ipython",
    "version": 2
   },
   "file_extension": ".py",
   "mimetype": "text/x-python",
   "name": "python",
   "nbconvert_exporter": "python",
   "pygments_lexer": "ipython2",
   "version": "2.7.11"
  }
 },
 "nbformat": 4,
 "nbformat_minor": 0
}
