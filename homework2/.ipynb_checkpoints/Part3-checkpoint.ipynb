{
 "cells": [
  {
   "cell_type": "markdown",
   "metadata": {},
   "source": [
    "-\tEnter the VR value for Group A (round your answer to two decimal places):\n",
    "-\t0.705882353\n",
    "-\tEnter the VR value for Group B (round your answer to two decimal places):\n",
    "-\t0.588235294\n",
    "-\tEnter the VR value for Group C (round your answer to two decimal places):\n",
    "-\t0.764705882\n",
    "-\tWhich group has the lowest variation:\n",
    "-\tGroup B\n",
    "-\tWhich group has the highest variation:\n",
    "-\tGroup C\n"
   ]
  }
 ],
 "metadata": {
  "kernelspec": {
   "display_name": "Python 2",
   "language": "python",
   "name": "python2"
  },
  "language_info": {
   "codemirror_mode": {
    "name": "ipython",
    "version": 2
   },
   "file_extension": ".py",
   "mimetype": "text/x-python",
   "name": "python",
   "nbconvert_exporter": "python",
   "pygments_lexer": "ipython2",
   "version": "2.7.10"
  }
 },
 "nbformat": 4,
 "nbformat_minor": 0
}
